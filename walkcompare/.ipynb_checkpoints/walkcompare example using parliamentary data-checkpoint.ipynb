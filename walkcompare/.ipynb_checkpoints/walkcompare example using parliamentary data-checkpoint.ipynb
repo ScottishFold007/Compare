{
 "cells": [
  {
   "cell_type": "markdown",
   "metadata": {},
   "source": [
    "WALKCOMPARE\n",
    "===========\n",
    "\n",
    "\n"
   ]
  },
  {
   "cell_type": "code",
   "execution_count": 2,
   "metadata": {
    "collapsed": false
   },
   "outputs": [],
   "source": [
    "\n",
    "import walkcompare\n",
    "%matplotlib inline\n"
   ]
  },
  {
   "cell_type": "code",
   "execution_count": null,
   "metadata": {
    "collapsed": true
   },
   "outputs": [],
   "source": [
    "with open('./data/parliamentary_committees.json') as f:\n",
    "    data = json.load(f)\n",
    "values = [y['membership'] for  y in data.values()]\n",
    "names = [q for q in data.keys()]\n",
    "print(names)\n",
    "compare = compare(values, names)\n",
    "compare.LABEL_BOTH_FACTORS = True\n",
    "compare.adjust = True\n",
    "compare.plot_ca()"
   ]
  }
 ],
 "metadata": {
  "kernelspec": {
   "display_name": "Python 3",
   "language": "python",
   "name": "python3"
  },
  "language_info": {
   "codemirror_mode": {
    "name": "ipython",
    "version": 3
   },
   "file_extension": ".py",
   "mimetype": "text/x-python",
   "name": "python",
   "nbconvert_exporter": "python",
   "pygments_lexer": "ipython3",
   "version": "3.5.1"
  }
 },
 "nbformat": 4,
 "nbformat_minor": 0
}
